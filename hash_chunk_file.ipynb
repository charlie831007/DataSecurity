{
 "cells": [
  {
   "cell_type": "code",
   "execution_count": 1,
   "metadata": {},
   "outputs": [],
   "source": [
    "a = 'test string'.encode('utf-8')"
   ]
  },
  {
   "cell_type": "code",
   "execution_count": 2,
   "metadata": {},
   "outputs": [
    {
     "name": "stdout",
     "output_type": "stream",
     "text": [
      "0 t 116 1110100\n",
      "1 e 101 1100101\n",
      "2 s 115 1110011\n",
      "3 t 116 1110100\n",
      "4   32 100000\n",
      "5 s 115 1110011\n",
      "6 t 116 1110100\n",
      "7 r 114 1110010\n",
      "8 i 105 1101001\n",
      "9 n 110 1101110\n",
      "10 g 103 1100111\n",
      "1110100110010111100111110100100000111001111101001110010110100111011101100111 76\n"
     ]
    }
   ],
   "source": [
    "bin_str = ''\n",
    "for i, element in enumerate(a):\n",
    "    print(i,chr(a[i]) , a[i], bin(element)[2:])\n",
    "    bin_str += bin(element)[2:]\n",
    "\n",
    "print(bin_str, len(bin_str))"
   ]
  },
  {
   "cell_type": "code",
   "execution_count": 3,
   "metadata": {},
   "outputs": [
    {
     "data": {
      "text/plain": [
       "(bytes, int)"
      ]
     },
     "execution_count": 3,
     "metadata": {},
     "output_type": "execute_result"
    }
   ],
   "source": [
    "type(a), type(a[0])"
   ]
  },
  {
   "cell_type": "code",
   "execution_count": 4,
   "metadata": {},
   "outputs": [],
   "source": [
    "def chunk(binary_str, chunksize):\n",
    "    rest_len = len(binary_str)\n",
    "    chunk_list = []\n",
    "    for i in range(0, len(binary_str), chunksize):\n",
    "        chunk_list.append(binary_str[i : i + chunksize])\n",
    "        rest_len -= chunksize\n",
    "    return chunk_list\n",
    "#         else:\n",
    "#             for j in range(chunksize - rest_len):\n",
    "#                 binary_str += '0'\n",
    "#             yield(binary_str[i : i + chunksize])"
   ]
  },
  {
   "cell_type": "code",
   "execution_count": 5,
   "metadata": {
    "scrolled": false
   },
   "outputs": [],
   "source": [
    "bin_chunk = chunk(bin_str, 5)\n",
    "# chunk_list = list(bin_chunk)"
   ]
  },
  {
   "cell_type": "code",
   "execution_count": 6,
   "metadata": {},
   "outputs": [
    {
     "name": "stdout",
     "output_type": "stream",
     "text": [
      "['11101', '00110', '01011', '11001', '11110', '10010', '00001', '11001', '11110', '10011', '10010', '11010', '01110', '11101', '10011', '1'] <class 'list'>\n"
     ]
    }
   ],
   "source": [
    "print(bin_chunk, type(bin_chunk))"
   ]
  },
  {
   "cell_type": "code",
   "execution_count": 7,
   "metadata": {},
   "outputs": [
    {
     "name": "stdout",
     "output_type": "stream",
     "text": [
      "4a01ae2c6a1801146dcb069e710f702f1292edfca9a9c302e7fe18d2eed0cea0\n",
      "75d28d201d1167eda893ccff2d4bf03b19d425625678bdd5bbc3dd5765014589\n",
      "82650b18218e40db1853bf9deec91b7bafabe333a21dca4873ff70ec99645708\n",
      "72b209306c1a1031b9b3dbec63cf58b0beabbf3e3f0a40c63ef5df093b62dfb8\n",
      "81c7883d08afb46d4bc0d118dd96d30124701ef1c6e0e90e70a6b37f9383f951\n",
      "24dc9bebea86dd4149d86b7ab672714b2c60b6e76e3f8809133c7f29b5c2d180\n",
      "8566ee8cc961a20f2f00208063764cfc75082eff5b90f989b36e4da08f935e2a\n",
      "72b209306c1a1031b9b3dbec63cf58b0beabbf3e3f0a40c63ef5df093b62dfb8\n",
      "81c7883d08afb46d4bc0d118dd96d30124701ef1c6e0e90e70a6b37f9383f951\n",
      "ddf3ff7c110ced585a4061e3a3c66f7051fe6847fd4b561f03bbad2b072a9cf0\n",
      "24dc9bebea86dd4149d86b7ab672714b2c60b6e76e3f8809133c7f29b5c2d180\n",
      "4c9bf88bc02a3ea8c292f151e5d7895abc5f963363613f5d52764350df2cb869\n",
      "82243db0f119039859f6dd169e3009b23971cfa5634eec63b6f5a3246313d7f0\n",
      "4a01ae2c6a1801146dcb069e710f702f1292edfca9a9c302e7fe18d2eed0cea0\n",
      "ddf3ff7c110ced585a4061e3a3c66f7051fe6847fd4b561f03bbad2b072a9cf0\n",
      "6b86b273ff34fce19d6b804eff5a3f5747ada4eaa22f1d49c01e52ddb7875b4b\n"
     ]
    }
   ],
   "source": [
    "import hashlib\n",
    "\n",
    "hash_list = []\n",
    "for i in bin_chunk:\n",
    "    hash = hashlib.sha256()\n",
    "    hash.update(i.encode('utf-8'))\n",
    "    print(hash.hexdigest())\n",
    "    hash_list.append(hash.hexdigest())"
   ]
  },
  {
   "cell_type": "code",
   "execution_count": 8,
   "metadata": {},
   "outputs": [
    {
     "name": "stdout",
     "output_type": "stream",
     "text": [
      "4a01ae2c6a1801146dcb069e710f702f1292edfca9a9c302e7fe18d2eed0cea0 <class 'str'>\n",
      "75d28d201d1167eda893ccff2d4bf03b19d425625678bdd5bbc3dd5765014589 <class 'str'>\n",
      "82650b18218e40db1853bf9deec91b7bafabe333a21dca4873ff70ec99645708 <class 'str'>\n",
      "72b209306c1a1031b9b3dbec63cf58b0beabbf3e3f0a40c63ef5df093b62dfb8 <class 'str'>\n",
      "81c7883d08afb46d4bc0d118dd96d30124701ef1c6e0e90e70a6b37f9383f951 <class 'str'>\n",
      "24dc9bebea86dd4149d86b7ab672714b2c60b6e76e3f8809133c7f29b5c2d180 <class 'str'>\n",
      "8566ee8cc961a20f2f00208063764cfc75082eff5b90f989b36e4da08f935e2a <class 'str'>\n",
      "72b209306c1a1031b9b3dbec63cf58b0beabbf3e3f0a40c63ef5df093b62dfb8 <class 'str'>\n",
      "81c7883d08afb46d4bc0d118dd96d30124701ef1c6e0e90e70a6b37f9383f951 <class 'str'>\n",
      "ddf3ff7c110ced585a4061e3a3c66f7051fe6847fd4b561f03bbad2b072a9cf0 <class 'str'>\n",
      "24dc9bebea86dd4149d86b7ab672714b2c60b6e76e3f8809133c7f29b5c2d180 <class 'str'>\n",
      "4c9bf88bc02a3ea8c292f151e5d7895abc5f963363613f5d52764350df2cb869 <class 'str'>\n",
      "82243db0f119039859f6dd169e3009b23971cfa5634eec63b6f5a3246313d7f0 <class 'str'>\n",
      "4a01ae2c6a1801146dcb069e710f702f1292edfca9a9c302e7fe18d2eed0cea0 <class 'str'>\n",
      "ddf3ff7c110ced585a4061e3a3c66f7051fe6847fd4b561f03bbad2b072a9cf0 <class 'str'>\n",
      "6b86b273ff34fce19d6b804eff5a3f5747ada4eaa22f1d49c01e52ddb7875b4b <class 'str'>\n"
     ]
    }
   ],
   "source": [
    "for hash_chunk in hash_list:\n",
    "    print(hash_chunk, type(hash_chunk))"
   ]
  },
  {
   "cell_type": "code",
   "execution_count": 9,
   "metadata": {},
   "outputs": [
    {
     "ename": "NameError",
     "evalue": "name 'chunk_list' is not defined",
     "output_type": "error",
     "traceback": [
      "\u001b[1;31m---------------------------------------------------------------------------\u001b[0m",
      "\u001b[1;31mNameError\u001b[0m                                 Traceback (most recent call last)",
      "\u001b[1;32m<ipython-input-9-e28fb12c72ae>\u001b[0m in \u001b[0;36m<module>\u001b[1;34m()\u001b[0m\n\u001b[1;32m----> 1\u001b[1;33m \u001b[1;32mfor\u001b[0m \u001b[0mi\u001b[0m \u001b[1;32min\u001b[0m \u001b[0mchunk_list\u001b[0m\u001b[1;33m:\u001b[0m\u001b[1;33m\u001b[0m\u001b[0m\n\u001b[0m\u001b[0;32m      2\u001b[0m     \u001b[0mhash\u001b[0m\u001b[1;33m.\u001b[0m\u001b[0mupdate\u001b[0m\u001b[1;33m(\u001b[0m\u001b[0mi\u001b[0m\u001b[1;33m.\u001b[0m\u001b[0mencode\u001b[0m\u001b[1;33m(\u001b[0m\u001b[1;34m'utf-8'\u001b[0m\u001b[1;33m)\u001b[0m\u001b[1;33m)\u001b[0m\u001b[1;33m\u001b[0m\u001b[0m\n\u001b[0;32m      3\u001b[0m     \u001b[0mprint\u001b[0m\u001b[1;33m(\u001b[0m\u001b[0mhash\u001b[0m\u001b[1;33m.\u001b[0m\u001b[0mdigest\u001b[0m\u001b[1;33m(\u001b[0m\u001b[1;33m)\u001b[0m\u001b[1;33m)\u001b[0m\u001b[1;33m\u001b[0m\u001b[0m\n",
      "\u001b[1;31mNameError\u001b[0m: name 'chunk_list' is not defined"
     ]
    }
   ],
   "source": [
    "for i in chunk_list:\n",
    "    hash.update(i.encode('utf-8'))\n",
    "    print(hash.digest())"
   ]
  },
  {
   "cell_type": "code",
   "execution_count": 10,
   "metadata": {},
   "outputs": [
    {
     "name": "stdout",
     "output_type": "stream",
     "text": [
      "C:\\Users\\User\\AppData\\Local\\Temp\\tmpvi15xq12\n",
      "1110100\n",
      "1100101\n",
      "1110011\n",
      "1110100\n",
      "100000\n",
      "1110011\n",
      "1110100\n",
      "1110010\n",
      "1101001\n",
      "1101110\n",
      "1100111\n"
     ]
    }
   ],
   "source": [
    "import tempfile\n",
    "import os\n",
    "temp1 = tempfile.NamedTemporaryFile(mode = 'w+')\n",
    "temp1.write('test string')\n",
    "print(temp1.name)\n",
    "\n",
    "temp1.seek(0)\n",
    "read_bin = temp1.read().encode('utf-8')\n",
    "temp1.close()\n",
    "\n",
    "for digit in read_bin:\n",
    "    print(bin(digit)[2:])"
   ]
  }
 ],
 "metadata": {
  "kernelspec": {
   "display_name": "Python 3",
   "language": "python",
   "name": "python3"
  },
  "language_info": {
   "codemirror_mode": {
    "name": "ipython",
    "version": 3
   },
   "file_extension": ".py",
   "mimetype": "text/x-python",
   "name": "python",
   "nbconvert_exporter": "python",
   "pygments_lexer": "ipython3",
   "version": "3.6.5"
  }
 },
 "nbformat": 4,
 "nbformat_minor": 2
}
