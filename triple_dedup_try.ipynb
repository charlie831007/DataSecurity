{
 "cells": [
  {
   "cell_type": "code",
   "execution_count": 1,
   "metadata": {},
   "outputs": [],
   "source": [
    "# 隨機從dataset中挑選N筆資料\n",
    "from os import walk\n",
    "from os.path import join\n",
    "from os import stat\n",
    "import random\n",
    "import hashlib\n",
    "import time\n",
    "\n",
    "mypath = \"D:\\Download\\enron\"\n",
    "\n",
    "# store all the fullpath of files in the root directory\n",
    "file_names = []\n",
    "\n",
    "# only store files size bigger than 5K\n",
    "for root, dirs, files in walk(mypath):\n",
    "    for f in files:\n",
    "        fullpath = join(root, f)\n",
    "        if(stat(fullpath).st_size >= 5000):\n",
    "            file_names.append(fullpath)"
   ]
  },
  {
   "cell_type": "code",
   "execution_count": 2,
   "metadata": {},
   "outputs": [
    {
     "name": "stdout",
     "output_type": "stream",
     "text": [
      "same file amount between cloud file and check file: 0\n"
     ]
    }
   ],
   "source": [
    "# os.stat(file).st_size return size of the file in bytes\n",
    "# for i in range(1000):\n",
    "#     random_int = random.randint(0, len(file_names) - 1)\n",
    "#     upload_files.append(file_names[random_int])\n",
    "upload_files = random.sample(file_names, k = 100)  #upload 1K no-repeated files\n",
    "    \n",
    "# for i in range(200):\n",
    "#     random_int = random.randint(0, len(file_names) - 1)\n",
    "#     check_files.append(file_names[random_int])\n",
    "check_files = random.choices(file_names, k = 20)\n",
    "    \n",
    "same_file = 0\n",
    "for cf in check_files:\n",
    "    if(cf in upload_files):\n",
    "        same_file += 1\n",
    "print('same file amount between cloud file and check file:', same_file)"
   ]
  },
  {
   "cell_type": "code",
   "execution_count": 3,
   "metadata": {},
   "outputs": [],
   "source": [
    "cloud_hash = []\n",
    "\n",
    "def upload_file(chunk_size):\n",
    "    for file in upload_files:\n",
    "        with open(file, 'rb') as f:\n",
    "            text = f.read()\n",
    "        f.close()\n",
    "\n",
    "    #         if(len(text) % chunk_size != 0):\n",
    "    #             for i in range(chunk_size - (len(text) % chunk_size)):\n",
    "    #                 text += bytes.fromhex('30')\n",
    "\n",
    "        for i in range(0, len(text), chunk_size):\n",
    "            cloud_hash.append(hashlib.sha256(text[i: i + chunk_size]).hexdigest())\n",
    "    \n",
    "    cloud_hash = list(set(cloud_hash))  # 去重複\n",
    "        \n",
    "check_hash = []\n",
    "\n",
    "def cut_check_file(chunk_size):\n",
    "    for file in check_files:\n",
    "        with open(file, 'rb') as f:\n",
    "            text = f.read()\n",
    "        f.close()\n",
    "        \n",
    "        for i in range(0, len(text), chunk_size):\n",
    "            check_hash.append(hashlib.sha256(text[i: i + chunk_size]).hexdigest())\n",
    "            \n",
    "    if(len(check_hash) % 3 != 0):\n",
    "        check_hash.extend(random.sample(check_hash, k = (3 - (len(check_hash) % 3))))"
   ]
  },
  {
   "cell_type": "code",
   "execution_count": null,
   "metadata": {},
   "outputs": [],
   "source": [
    "def return_value(hash1, hash2, hash3, hash_list):\n",
    "    \n",
    "\n",
    "def triple_cost(chunk_size):\n",
    "    cloud_copy = cloud_hash.copy()\n",
    "    \n",
    "    for i in range(0, len(check_hash), 3):\n",
    "        "
   ]
  }
 ],
 "metadata": {
  "kernelspec": {
   "display_name": "Python 3",
   "language": "python",
   "name": "python3"
  },
  "language_info": {
   "codemirror_mode": {
    "name": "ipython",
    "version": 3
   },
   "file_extension": ".py",
   "mimetype": "text/x-python",
   "name": "python",
   "nbconvert_exporter": "python",
   "pygments_lexer": "ipython3",
   "version": "3.6.5"
  }
 },
 "nbformat": 4,
 "nbformat_minor": 2
}
